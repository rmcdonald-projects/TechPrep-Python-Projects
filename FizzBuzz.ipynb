{
 "cells": [
  {
   "cell_type": "code",
   "execution_count": null,
   "metadata": {},
   "outputs": [],
   "source": [
    "# A \"FizzBuzz\" simulator...\n",
    "\n",
    "for a in range(100):\n",
    "    prt = \"\"\n",
    "    b = a+1\n",
    "    if(b % 3 == 0):\n",
    "        prt = \"fizz\"\n",
    "    if(b % 5 == 0):\n",
    "        prt = prt+\"buzz\"\n",
    "    if prt == \"\":\n",
    "        prt = b\n",
    "    print(prt)\n",
    "print(\"The FizzBuzz battle is over!\")"
   ]
  }
 ],
 "metadata": {
  "kernelspec": {
   "display_name": "Python 3",
   "language": "python",
   "name": "python3"
  },
  "language_info": {
   "codemirror_mode": {
    "name": "ipython",
    "version": 3
   },
   "file_extension": ".py",
   "mimetype": "text/x-python",
   "name": "python",
   "nbconvert_exporter": "python",
   "pygments_lexer": "ipython3",
   "version": "3.10.6"
  },
  "orig_nbformat": 4
 },
 "nbformat": 4,
 "nbformat_minor": 2
}
