{
 "cells": [
  {
   "cell_type": "code",
   "execution_count": null,
   "metadata": {},
   "outputs": [],
   "source": [
    "# A \"Magic 8-Ball\" simulator...\n",
    "import random\n",
    "\n",
    "magicResponses = [\"It is certain\",\"It is decidedly so\",\"Without a doubt\",\"Yes definitely\",\"You may rely on it\",\"As I see it, yes\",\"Most likely\",\"Outlook good\",\"Yes\",\"Signs point to yes\",\"Reply hazy, try again\",\"Ask again later\",\"Better not tell you now\",\"Cannot predict now\",\"Concentrate and ask again\",\"Don't count on it\",\"My reply is no\",\"My sources say no\",\"Outlook not so good\",\"Very doubtful\"]\n",
    "questionAdjectives = [\"burning\",\"desperate\",\"sincere\",\"silly\",\"strange\",\"special\",\"secret\",\"awful\",\"embarrassing\"]\n",
    "areWeDone = False\n",
    "stillString = \"a\"\n",
    "\n",
    "while areWeDone != True:\n",
    "    randAdj = random.choice(questionAdjectives)\n",
    "    questString = \"Do you have {} {} question (Y/N)? \".format(stillString,randAdj)\n",
    "    keepGoing = input(questString).upper()\n",
    "    if keepGoing == \"Y\":\n",
    "        realQuestion = \"Enter your {} question: \".format(randAdj)\n",
    "        if input(realQuestion) != \"\":\n",
    "            stillString = \"another\"\n",
    "            print(\"The mysterious spirits answer...  `\"+random.choice(magicResponses)+\"`\")\n",
    "    elif keepGoing == \"N\":\n",
    "        areWeDone = True\n",
    "        print(\"Well, best of luck to you!\")\n",
    "    else:\n",
    "        print(\"(I'm a prophet, not a mind reader - please enter Y or N...)\")\n"
   ]
  }
 ],
 "metadata": {
  "kernelspec": {
   "display_name": "Python 3",
   "language": "python",
   "name": "python3"
  },
  "language_info": {
   "codemirror_mode": {
    "name": "ipython",
    "version": 3
   },
   "file_extension": ".py",
   "mimetype": "text/x-python",
   "name": "python",
   "nbconvert_exporter": "python",
   "pygments_lexer": "ipython3",
   "version": "3.10.6"
  },
  "orig_nbformat": 4
 },
 "nbformat": 4,
 "nbformat_minor": 2
}
